{
 "cells": [
  {
   "cell_type": "markdown",
   "metadata": {},
   "source": [
    "# EJERCICIO 2. CÁLCULO DE MEDIDAS DE TENDENCIA CENTRAL\n",
    "\n",
    "Autora: Brenda Ortiz Soto\n",
    "\n",
    "En este ejercicio, se obtendrán la moda, la media y la mediana de un set de datos. Igualmente, se graficarán histogramas de los sets de datos. Esta vez vamos a usar las librerías: Pandas, Matplotlib, NumPy, SciPy, y Seaborn.\n",
    "\n",
    "Para obtener el *data set* puedes dar clic [aquí.](https://www.kaggle.com/usgs/earthquake-database)\n",
    "\n",
    "\n",
    "Dicho  *data set* corresponde con información de sismos de magnitud 5.5 o mayor, que han ocurrido en todo el mundo desde 1965 hasta el 2016, e incluye la fecha y hora de ocurrencia, localidad del sismo, magnitud y profundidad. La información fue recolectada por el \"Eartquake Information Center (NEIC)\", encuentra más información del NEIC [aquí.](https://www.usgs.gov/natural-hazards/earthquake-hazards/national-earthquake-information-center-neic?qt-science_support_page_related_con=3#qt-science_support_page_related_con.)\n"
   ]
  },
  {
   "cell_type": "markdown",
   "metadata": {},
   "source": [
    "## Importación de librerías y lectura de datos"
   ]
  },
  {
   "cell_type": "code",
   "execution_count": 1,
   "metadata": {},
   "outputs": [],
   "source": [
    "#Importar librerías y asignarles un nombre corto\n",
    "import pandas as pd              \n",
    "import matplotlib.pyplot as plt   \n",
    "import numpy as np \n",
    "from scipy import stats \n",
    "import seaborn as sns\n",
    "import matplotlib.mlab as mlab\n",
    "#puedes darte cuenta que importamos más librerías que en el ejercio anterior\n",
    "#la razón: cada librería cuenta con funciones específicas y diferentes"
   ]
  },
  {
   "cell_type": "code",
   "execution_count": 2,
   "metadata": {},
   "outputs": [],
   "source": [
    "datos = pd.read_csv('e2_datos.csv') #los datos deben estar guardados en la misma carpeta que el Jupyter Notebook "
   ]
  },
  {
   "cell_type": "code",
   "execution_count": 3,
   "metadata": {
    "scrolled": true
   },
   "outputs": [
    {
     "data": {
      "text/html": [
       "<div>\n",
       "<style scoped>\n",
       "    .dataframe tbody tr th:only-of-type {\n",
       "        vertical-align: middle;\n",
       "    }\n",
       "\n",
       "    .dataframe tbody tr th {\n",
       "        vertical-align: top;\n",
       "    }\n",
       "\n",
       "    .dataframe thead th {\n",
       "        text-align: right;\n",
       "    }\n",
       "</style>\n",
       "<table border=\"1\" class=\"dataframe\">\n",
       "  <thead>\n",
       "    <tr style=\"text-align: right;\">\n",
       "      <th></th>\n",
       "      <th>Date</th>\n",
       "      <th>Time</th>\n",
       "      <th>Latitude</th>\n",
       "      <th>Longitude</th>\n",
       "      <th>Type</th>\n",
       "      <th>Depth</th>\n",
       "      <th>Depth Error</th>\n",
       "      <th>Depth Seismic Stations</th>\n",
       "      <th>Magnitude</th>\n",
       "      <th>Magnitude Type</th>\n",
       "      <th>...</th>\n",
       "      <th>Magnitude Seismic Stations</th>\n",
       "      <th>Azimuthal Gap</th>\n",
       "      <th>Horizontal Distance</th>\n",
       "      <th>Horizontal Error</th>\n",
       "      <th>Root Mean Square</th>\n",
       "      <th>ID</th>\n",
       "      <th>Source</th>\n",
       "      <th>Location Source</th>\n",
       "      <th>Magnitude Source</th>\n",
       "      <th>Status</th>\n",
       "    </tr>\n",
       "  </thead>\n",
       "  <tbody>\n",
       "    <tr>\n",
       "      <th>0</th>\n",
       "      <td>01/02/1965</td>\n",
       "      <td>13:44:18</td>\n",
       "      <td>19.246</td>\n",
       "      <td>145.616</td>\n",
       "      <td>Earthquake</td>\n",
       "      <td>131.6</td>\n",
       "      <td>NaN</td>\n",
       "      <td>NaN</td>\n",
       "      <td>6.0</td>\n",
       "      <td>MW</td>\n",
       "      <td>...</td>\n",
       "      <td>NaN</td>\n",
       "      <td>NaN</td>\n",
       "      <td>NaN</td>\n",
       "      <td>NaN</td>\n",
       "      <td>NaN</td>\n",
       "      <td>ISCGEM860706</td>\n",
       "      <td>ISCGEM</td>\n",
       "      <td>ISCGEM</td>\n",
       "      <td>ISCGEM</td>\n",
       "      <td>Automatic</td>\n",
       "    </tr>\n",
       "    <tr>\n",
       "      <th>1</th>\n",
       "      <td>01/04/1965</td>\n",
       "      <td>11:29:49</td>\n",
       "      <td>1.863</td>\n",
       "      <td>127.352</td>\n",
       "      <td>Earthquake</td>\n",
       "      <td>80.0</td>\n",
       "      <td>NaN</td>\n",
       "      <td>NaN</td>\n",
       "      <td>5.8</td>\n",
       "      <td>MW</td>\n",
       "      <td>...</td>\n",
       "      <td>NaN</td>\n",
       "      <td>NaN</td>\n",
       "      <td>NaN</td>\n",
       "      <td>NaN</td>\n",
       "      <td>NaN</td>\n",
       "      <td>ISCGEM860737</td>\n",
       "      <td>ISCGEM</td>\n",
       "      <td>ISCGEM</td>\n",
       "      <td>ISCGEM</td>\n",
       "      <td>Automatic</td>\n",
       "    </tr>\n",
       "    <tr>\n",
       "      <th>2</th>\n",
       "      <td>01/05/1965</td>\n",
       "      <td>18:05:58</td>\n",
       "      <td>-20.579</td>\n",
       "      <td>-173.972</td>\n",
       "      <td>Earthquake</td>\n",
       "      <td>20.0</td>\n",
       "      <td>NaN</td>\n",
       "      <td>NaN</td>\n",
       "      <td>6.2</td>\n",
       "      <td>MW</td>\n",
       "      <td>...</td>\n",
       "      <td>NaN</td>\n",
       "      <td>NaN</td>\n",
       "      <td>NaN</td>\n",
       "      <td>NaN</td>\n",
       "      <td>NaN</td>\n",
       "      <td>ISCGEM860762</td>\n",
       "      <td>ISCGEM</td>\n",
       "      <td>ISCGEM</td>\n",
       "      <td>ISCGEM</td>\n",
       "      <td>Automatic</td>\n",
       "    </tr>\n",
       "    <tr>\n",
       "      <th>3</th>\n",
       "      <td>01/08/1965</td>\n",
       "      <td>18:49:43</td>\n",
       "      <td>-59.076</td>\n",
       "      <td>-23.557</td>\n",
       "      <td>Earthquake</td>\n",
       "      <td>15.0</td>\n",
       "      <td>NaN</td>\n",
       "      <td>NaN</td>\n",
       "      <td>5.8</td>\n",
       "      <td>MW</td>\n",
       "      <td>...</td>\n",
       "      <td>NaN</td>\n",
       "      <td>NaN</td>\n",
       "      <td>NaN</td>\n",
       "      <td>NaN</td>\n",
       "      <td>NaN</td>\n",
       "      <td>ISCGEM860856</td>\n",
       "      <td>ISCGEM</td>\n",
       "      <td>ISCGEM</td>\n",
       "      <td>ISCGEM</td>\n",
       "      <td>Automatic</td>\n",
       "    </tr>\n",
       "    <tr>\n",
       "      <th>4</th>\n",
       "      <td>01/09/1965</td>\n",
       "      <td>13:32:50</td>\n",
       "      <td>11.938</td>\n",
       "      <td>126.427</td>\n",
       "      <td>Earthquake</td>\n",
       "      <td>15.0</td>\n",
       "      <td>NaN</td>\n",
       "      <td>NaN</td>\n",
       "      <td>5.8</td>\n",
       "      <td>MW</td>\n",
       "      <td>...</td>\n",
       "      <td>NaN</td>\n",
       "      <td>NaN</td>\n",
       "      <td>NaN</td>\n",
       "      <td>NaN</td>\n",
       "      <td>NaN</td>\n",
       "      <td>ISCGEM860890</td>\n",
       "      <td>ISCGEM</td>\n",
       "      <td>ISCGEM</td>\n",
       "      <td>ISCGEM</td>\n",
       "      <td>Automatic</td>\n",
       "    </tr>\n",
       "  </tbody>\n",
       "</table>\n",
       "<p>5 rows × 21 columns</p>\n",
       "</div>"
      ],
      "text/plain": [
       "         Date      Time  Latitude  Longitude        Type  Depth  Depth Error  \\\n",
       "0  01/02/1965  13:44:18    19.246    145.616  Earthquake  131.6          NaN   \n",
       "1  01/04/1965  11:29:49     1.863    127.352  Earthquake   80.0          NaN   \n",
       "2  01/05/1965  18:05:58   -20.579   -173.972  Earthquake   20.0          NaN   \n",
       "3  01/08/1965  18:49:43   -59.076    -23.557  Earthquake   15.0          NaN   \n",
       "4  01/09/1965  13:32:50    11.938    126.427  Earthquake   15.0          NaN   \n",
       "\n",
       "   Depth Seismic Stations  Magnitude Magnitude Type  ...  \\\n",
       "0                     NaN        6.0             MW  ...   \n",
       "1                     NaN        5.8             MW  ...   \n",
       "2                     NaN        6.2             MW  ...   \n",
       "3                     NaN        5.8             MW  ...   \n",
       "4                     NaN        5.8             MW  ...   \n",
       "\n",
       "   Magnitude Seismic Stations  Azimuthal Gap  Horizontal Distance  \\\n",
       "0                         NaN            NaN                  NaN   \n",
       "1                         NaN            NaN                  NaN   \n",
       "2                         NaN            NaN                  NaN   \n",
       "3                         NaN            NaN                  NaN   \n",
       "4                         NaN            NaN                  NaN   \n",
       "\n",
       "   Horizontal Error  Root Mean Square            ID  Source Location Source  \\\n",
       "0               NaN               NaN  ISCGEM860706  ISCGEM          ISCGEM   \n",
       "1               NaN               NaN  ISCGEM860737  ISCGEM          ISCGEM   \n",
       "2               NaN               NaN  ISCGEM860762  ISCGEM          ISCGEM   \n",
       "3               NaN               NaN  ISCGEM860856  ISCGEM          ISCGEM   \n",
       "4               NaN               NaN  ISCGEM860890  ISCGEM          ISCGEM   \n",
       "\n",
       "  Magnitude Source     Status  \n",
       "0           ISCGEM  Automatic  \n",
       "1           ISCGEM  Automatic  \n",
       "2           ISCGEM  Automatic  \n",
       "3           ISCGEM  Automatic  \n",
       "4           ISCGEM  Automatic  \n",
       "\n",
       "[5 rows x 21 columns]"
      ]
     },
     "execution_count": 3,
     "metadata": {},
     "output_type": "execute_result"
    }
   ],
   "source": [
    "datos.head()"
   ]
  },
  {
   "cell_type": "code",
   "execution_count": 4,
   "metadata": {},
   "outputs": [
    {
     "data": {
      "text/plain": [
       "(23412, 21)"
      ]
     },
     "execution_count": 4,
     "metadata": {},
     "output_type": "execute_result"
    }
   ],
   "source": [
    "datos.shape  #para saber cuantas filas y columnas contiene el dataframe"
   ]
  },
  {
   "cell_type": "code",
   "execution_count": 5,
   "metadata": {},
   "outputs": [
    {
     "data": {
      "text/html": [
       "<div>\n",
       "<style scoped>\n",
       "    .dataframe tbody tr th:only-of-type {\n",
       "        vertical-align: middle;\n",
       "    }\n",
       "\n",
       "    .dataframe tbody tr th {\n",
       "        vertical-align: top;\n",
       "    }\n",
       "\n",
       "    .dataframe thead th {\n",
       "        text-align: right;\n",
       "    }\n",
       "</style>\n",
       "<table border=\"1\" class=\"dataframe\">\n",
       "  <thead>\n",
       "    <tr style=\"text-align: right;\">\n",
       "      <th></th>\n",
       "      <th>Date</th>\n",
       "      <th>Time</th>\n",
       "      <th>Latitude</th>\n",
       "      <th>Longitude</th>\n",
       "      <th>Depth</th>\n",
       "      <th>Magnitude</th>\n",
       "    </tr>\n",
       "  </thead>\n",
       "  <tbody>\n",
       "    <tr>\n",
       "      <th>0</th>\n",
       "      <td>01/02/1965</td>\n",
       "      <td>13:44:18</td>\n",
       "      <td>19.246</td>\n",
       "      <td>145.616</td>\n",
       "      <td>131.6</td>\n",
       "      <td>6.0</td>\n",
       "    </tr>\n",
       "    <tr>\n",
       "      <th>1</th>\n",
       "      <td>01/04/1965</td>\n",
       "      <td>11:29:49</td>\n",
       "      <td>1.863</td>\n",
       "      <td>127.352</td>\n",
       "      <td>80.0</td>\n",
       "      <td>5.8</td>\n",
       "    </tr>\n",
       "    <tr>\n",
       "      <th>2</th>\n",
       "      <td>01/05/1965</td>\n",
       "      <td>18:05:58</td>\n",
       "      <td>-20.579</td>\n",
       "      <td>-173.972</td>\n",
       "      <td>20.0</td>\n",
       "      <td>6.2</td>\n",
       "    </tr>\n",
       "    <tr>\n",
       "      <th>3</th>\n",
       "      <td>01/08/1965</td>\n",
       "      <td>18:49:43</td>\n",
       "      <td>-59.076</td>\n",
       "      <td>-23.557</td>\n",
       "      <td>15.0</td>\n",
       "      <td>5.8</td>\n",
       "    </tr>\n",
       "    <tr>\n",
       "      <th>4</th>\n",
       "      <td>01/09/1965</td>\n",
       "      <td>13:32:50</td>\n",
       "      <td>11.938</td>\n",
       "      <td>126.427</td>\n",
       "      <td>15.0</td>\n",
       "      <td>5.8</td>\n",
       "    </tr>\n",
       "  </tbody>\n",
       "</table>\n",
       "</div>"
      ],
      "text/plain": [
       "         Date      Time  Latitude  Longitude  Depth  Magnitude\n",
       "0  01/02/1965  13:44:18    19.246    145.616  131.6        6.0\n",
       "1  01/04/1965  11:29:49     1.863    127.352   80.0        5.8\n",
       "2  01/05/1965  18:05:58   -20.579   -173.972   20.0        6.2\n",
       "3  01/08/1965  18:49:43   -59.076    -23.557   15.0        5.8\n",
       "4  01/09/1965  13:32:50    11.938    126.427   15.0        5.8"
      ]
     },
     "execution_count": 5,
     "metadata": {},
     "output_type": "execute_result"
    }
   ],
   "source": [
    "#De nuestro datos originales, haremos un dataframe llamado datos1 que sólo incluya las columnas correspondientes a fecha, hora, latitud, longitud, profundidad y magnitud\n",
    "datos1 = datos[['Date', 'Time', 'Latitude', 'Longitude', 'Depth', 'Magnitude']]\n",
    "datos1.head() #para mostrar las primeras 5 líneas del dataframe"
   ]
  },
  {
   "cell_type": "code",
   "execution_count": 6,
   "metadata": {},
   "outputs": [
    {
     "data": {
      "text/plain": [
       "Date         0\n",
       "Time         0\n",
       "Latitude     0\n",
       "Longitude    0\n",
       "Depth        0\n",
       "Magnitude    0\n",
       "dtype: int64"
      ]
     },
     "execution_count": 6,
     "metadata": {},
     "output_type": "execute_result"
    }
   ],
   "source": [
    "#comprobamos que el dataset no contenga datos nulos\n",
    "valores_nulos = datos1.isnull().sum()\n",
    "valores_nulos\n",
    "#podemos observar que el dataframe está completo y no requiere modificar o borrar datos como en el ejercicio 1"
   ]
  },
  {
   "cell_type": "markdown",
   "metadata": {},
   "source": [
    "## Resumen estadístico"
   ]
  },
  {
   "cell_type": "markdown",
   "metadata": {},
   "source": [
    "Python nos permite obtener un resumen estadístico de cada variable o de la variable que le especifiquemos, mediante el cual obtenemos: el conteo total, el promedio, desviación estándar, valor mínimo, cuartiles y valor máximo. Obteniendo el resumen estadístico de todas las variables:"
   ]
  },
  {
   "cell_type": "code",
   "execution_count": 7,
   "metadata": {},
   "outputs": [
    {
     "data": {
      "text/html": [
       "<div>\n",
       "<style scoped>\n",
       "    .dataframe tbody tr th:only-of-type {\n",
       "        vertical-align: middle;\n",
       "    }\n",
       "\n",
       "    .dataframe tbody tr th {\n",
       "        vertical-align: top;\n",
       "    }\n",
       "\n",
       "    .dataframe thead th {\n",
       "        text-align: right;\n",
       "    }\n",
       "</style>\n",
       "<table border=\"1\" class=\"dataframe\">\n",
       "  <thead>\n",
       "    <tr style=\"text-align: right;\">\n",
       "      <th></th>\n",
       "      <th>count</th>\n",
       "      <th>mean</th>\n",
       "      <th>std</th>\n",
       "      <th>min</th>\n",
       "      <th>25%</th>\n",
       "      <th>50%</th>\n",
       "      <th>75%</th>\n",
       "      <th>max</th>\n",
       "    </tr>\n",
       "  </thead>\n",
       "  <tbody>\n",
       "    <tr>\n",
       "      <th>Latitude</th>\n",
       "      <td>23412.0</td>\n",
       "      <td>1.679033</td>\n",
       "      <td>30.113183</td>\n",
       "      <td>-77.080</td>\n",
       "      <td>-18.65300</td>\n",
       "      <td>-3.5685</td>\n",
       "      <td>26.19075</td>\n",
       "      <td>86.005</td>\n",
       "    </tr>\n",
       "    <tr>\n",
       "      <th>Longitude</th>\n",
       "      <td>23412.0</td>\n",
       "      <td>39.639961</td>\n",
       "      <td>125.511959</td>\n",
       "      <td>-179.997</td>\n",
       "      <td>-76.34975</td>\n",
       "      <td>103.9820</td>\n",
       "      <td>145.02625</td>\n",
       "      <td>179.998</td>\n",
       "    </tr>\n",
       "    <tr>\n",
       "      <th>Depth</th>\n",
       "      <td>23412.0</td>\n",
       "      <td>70.767911</td>\n",
       "      <td>122.651898</td>\n",
       "      <td>-1.100</td>\n",
       "      <td>14.52250</td>\n",
       "      <td>33.0000</td>\n",
       "      <td>54.00000</td>\n",
       "      <td>700.000</td>\n",
       "    </tr>\n",
       "    <tr>\n",
       "      <th>Magnitude</th>\n",
       "      <td>23412.0</td>\n",
       "      <td>5.882531</td>\n",
       "      <td>0.423066</td>\n",
       "      <td>5.500</td>\n",
       "      <td>5.60000</td>\n",
       "      <td>5.7000</td>\n",
       "      <td>6.00000</td>\n",
       "      <td>9.100</td>\n",
       "    </tr>\n",
       "  </tbody>\n",
       "</table>\n",
       "</div>"
      ],
      "text/plain": [
       "             count       mean         std      min       25%       50%  \\\n",
       "Latitude   23412.0   1.679033   30.113183  -77.080 -18.65300   -3.5685   \n",
       "Longitude  23412.0  39.639961  125.511959 -179.997 -76.34975  103.9820   \n",
       "Depth      23412.0  70.767911  122.651898   -1.100  14.52250   33.0000   \n",
       "Magnitude  23412.0   5.882531    0.423066    5.500   5.60000    5.7000   \n",
       "\n",
       "                 75%      max  \n",
       "Latitude    26.19075   86.005  \n",
       "Longitude  145.02625  179.998  \n",
       "Depth       54.00000  700.000  \n",
       "Magnitude    6.00000    9.100  "
      ]
     },
     "execution_count": 7,
     "metadata": {},
     "output_type": "execute_result"
    }
   ],
   "source": [
    "datos1.describe().transpose()   #dataframe.describe().transpose\n",
    "#en este caso, no nos es de utilidad obtener los datos estadísticos de la latitud y longitud pero se incluyen como ejemplo"
   ]
  },
  {
   "cell_type": "markdown",
   "metadata": {},
   "source": [
    "Y si queremos visualizar el resumen estadístico para una variable, en este caso para la magnitud:"
   ]
  },
  {
   "cell_type": "code",
   "execution_count": 8,
   "metadata": {},
   "outputs": [
    {
     "data": {
      "text/plain": [
       "count    23412.000000\n",
       "mean         5.882531\n",
       "std          0.423066\n",
       "min          5.500000\n",
       "25%          5.600000\n",
       "50%          5.700000\n",
       "75%          6.000000\n",
       "max          9.100000\n",
       "Name: Magnitude, dtype: float64"
      ]
     },
     "execution_count": 8,
     "metadata": {},
     "output_type": "execute_result"
    }
   ],
   "source": [
    "datos1['Magnitude'].describe() # la sintaxis es: nombre_archivo['variable'].describe()"
   ]
  },
  {
   "cell_type": "markdown",
   "metadata": {},
   "source": [
    "Obteniendo las medidas de tendencia central. De la lista, promedio es el mean y la mediana es el estadístico que dice 50%"
   ]
  },
  {
   "cell_type": "code",
   "execution_count": 9,
   "metadata": {},
   "outputs": [
    {
     "data": {
      "text/plain": [
       "0    5.5\n",
       "dtype: float64"
      ]
     },
     "execution_count": 9,
     "metadata": {},
     "output_type": "execute_result"
    }
   ],
   "source": [
    "#la sintaxis para obtener la moda de la variable 'Magnitude' es: nombre_archivo['variable'].mode\n",
    "#notar que sólo imprime los resultados, si deseamos guardar los datos, debemos crear variables para guardarlos\n",
    "#Para este ejercicio sólo guardaremos la media y la desviación estándar \n",
    "datos1['Magnitude'].mode()  "
   ]
  },
  {
   "cell_type": "code",
   "execution_count": 10,
   "metadata": {},
   "outputs": [
    {
     "data": {
      "text/plain": [
       "5.7"
      ]
     },
     "execution_count": 10,
     "metadata": {},
     "output_type": "execute_result"
    }
   ],
   "source": [
    "#la sintaxis para obtener la mediana de la variable 'Magnitude' es: nombre_archivo['variable'].median\n",
    "datos1['Magnitude'].median()"
   ]
  },
  {
   "cell_type": "code",
   "execution_count": 11,
   "metadata": {},
   "outputs": [
    {
     "data": {
      "text/plain": [
       "5.882530753460003"
      ]
     },
     "execution_count": 11,
     "metadata": {},
     "output_type": "execute_result"
    }
   ],
   "source": [
    "#la sintexis para obtener la media de la variable 'Magnitude' es: nombre_archivo['variable'].mean\n",
    "media = datos1['Magnitude'].mean()\n",
    "media"
   ]
  },
  {
   "cell_type": "code",
   "execution_count": 12,
   "metadata": {},
   "outputs": [
    {
     "data": {
      "text/plain": [
       "5.868444764632867"
      ]
     },
     "execution_count": 12,
     "metadata": {},
     "output_type": "execute_result"
    }
   ],
   "source": [
    "#la sintexis para obtener la media geométrica de la variable 'Magnitude' es: stats.gmean(nombre_archivo['variable'])\n",
    "stats.gmean(datos1['Magnitude'])"
   ]
  },
  {
   "cell_type": "markdown",
   "metadata": {},
   "source": [
    "Puedes notar que mediante el método describe obtuvimos la media (mean) y la mediana (la cual corresponde con el segundo cuartil o 50%). También obtuvimos dichos valores con las funciones mean y median que pertenecen al módulo stats de scipy (fíjate en la primera celda de este ejercicio, ahí es donde importamos stats)"
   ]
  },
  {
   "cell_type": "markdown",
   "metadata": {},
   "source": [
    "Ahora obtengamos las medidas de dispersión:"
   ]
  },
  {
   "cell_type": "code",
   "execution_count": 13,
   "metadata": {},
   "outputs": [
    {
     "data": {
      "text/plain": [
       "0.17898453516966728"
      ]
     },
     "execution_count": 13,
     "metadata": {},
     "output_type": "execute_result"
    }
   ],
   "source": [
    "#la sintaxis para obtener la varianza de la variable 'Magnitude' es: nombre_archivo['variable'].var()\n",
    "datos1['Magnitude'].var()"
   ]
  },
  {
   "cell_type": "code",
   "execution_count": 14,
   "metadata": {},
   "outputs": [
    {
     "data": {
      "text/plain": [
       "0.4230656393157772"
      ]
     },
     "execution_count": 14,
     "metadata": {},
     "output_type": "execute_result"
    }
   ],
   "source": [
    "#la sintexis para obtener la desviación estándar de la variable 'Magnitude' es: nombre_archivo['variable'].std\n",
    "std = datos1['Magnitude'].std()\n",
    "std"
   ]
  },
  {
   "cell_type": "code",
   "execution_count": 15,
   "metadata": {},
   "outputs": [
    {
     "data": {
      "text/plain": [
       "0.25    5.6\n",
       "0.50    5.7\n",
       "0.75    6.0\n",
       "Name: Magnitude, dtype: float64"
      ]
     },
     "execution_count": 15,
     "metadata": {},
     "output_type": "execute_result"
    }
   ],
   "source": [
    "#la sintexis para obtener los cuartiles de la variable 'Magnitude' es: nombre_archivo['variable'].quntile([.25,.5,.75])\n",
    "datos1['Magnitude'].quantile([.25,.5,.75])"
   ]
  },
  {
   "cell_type": "code",
   "execution_count": 16,
   "metadata": {},
   "outputs": [
    {
     "data": {
      "text/plain": [
       "0.8    6.1\n",
       "0.9    6.4\n",
       "Name: Magnitude, dtype: float64"
      ]
     },
     "execution_count": 16,
     "metadata": {},
     "output_type": "execute_result"
    }
   ],
   "source": [
    "#Imaginemos que quieres calcular percentiles de la variable 'Magnitude' es: nombre_archivo['variable'].quntile([percentil])\n",
    "#Por ejemplo el percentil 80 y el 90\n",
    "datos1['Magnitude'].quantile([.8,.9])"
   ]
  },
  {
   "cell_type": "markdown",
   "metadata": {},
   "source": [
    "## Agrupación de datos"
   ]
  },
  {
   "cell_type": "code",
   "execution_count": 17,
   "metadata": {
    "scrolled": true
   },
   "outputs": [
    {
     "data": {
      "text/html": [
       "<div>\n",
       "<style scoped>\n",
       "    .dataframe tbody tr th:only-of-type {\n",
       "        vertical-align: middle;\n",
       "    }\n",
       "\n",
       "    .dataframe tbody tr th {\n",
       "        vertical-align: top;\n",
       "    }\n",
       "\n",
       "    .dataframe thead tr th {\n",
       "        text-align: left;\n",
       "    }\n",
       "\n",
       "    .dataframe thead tr:last-of-type th {\n",
       "        text-align: right;\n",
       "    }\n",
       "</style>\n",
       "<table border=\"1\" class=\"dataframe\">\n",
       "  <thead>\n",
       "    <tr>\n",
       "      <th></th>\n",
       "      <th colspan=\"8\" halign=\"left\">Latitude</th>\n",
       "      <th colspan=\"5\" halign=\"left\">Longitude</th>\n",
       "      <th colspan=\"8\" halign=\"left\">Depth</th>\n",
       "    </tr>\n",
       "    <tr>\n",
       "      <th></th>\n",
       "      <th>count</th>\n",
       "      <th>mean</th>\n",
       "      <th>std</th>\n",
       "      <th>min</th>\n",
       "      <th>25%</th>\n",
       "      <th>50%</th>\n",
       "      <th>75%</th>\n",
       "      <th>max</th>\n",
       "      <th>count</th>\n",
       "      <th>mean</th>\n",
       "      <th>...</th>\n",
       "      <th>75%</th>\n",
       "      <th>max</th>\n",
       "      <th>count</th>\n",
       "      <th>mean</th>\n",
       "      <th>std</th>\n",
       "      <th>min</th>\n",
       "      <th>25%</th>\n",
       "      <th>50%</th>\n",
       "      <th>75%</th>\n",
       "      <th>max</th>\n",
       "    </tr>\n",
       "    <tr>\n",
       "      <th>Magnitude</th>\n",
       "      <th></th>\n",
       "      <th></th>\n",
       "      <th></th>\n",
       "      <th></th>\n",
       "      <th></th>\n",
       "      <th></th>\n",
       "      <th></th>\n",
       "      <th></th>\n",
       "      <th></th>\n",
       "      <th></th>\n",
       "      <th></th>\n",
       "      <th></th>\n",
       "      <th></th>\n",
       "      <th></th>\n",
       "      <th></th>\n",
       "      <th></th>\n",
       "      <th></th>\n",
       "      <th></th>\n",
       "      <th></th>\n",
       "      <th></th>\n",
       "      <th></th>\n",
       "    </tr>\n",
       "  </thead>\n",
       "  <tbody>\n",
       "    <tr>\n",
       "      <th>5.50</th>\n",
       "      <td>4685.0</td>\n",
       "      <td>0.559046</td>\n",
       "      <td>30.477473</td>\n",
       "      <td>-77.0800</td>\n",
       "      <td>-20.39100</td>\n",
       "      <td>-4.133000</td>\n",
       "      <td>23.532000</td>\n",
       "      <td>85.735000</td>\n",
       "      <td>4685.0</td>\n",
       "      <td>34.785978</td>\n",
       "      <td>...</td>\n",
       "      <td>143.473000</td>\n",
       "      <td>179.984000</td>\n",
       "      <td>4685.0</td>\n",
       "      <td>70.856438</td>\n",
       "      <td>120.984309</td>\n",
       "      <td>0.000</td>\n",
       "      <td>15.000</td>\n",
       "      <td>33.000</td>\n",
       "      <td>56.900</td>\n",
       "      <td>700.000</td>\n",
       "    </tr>\n",
       "    <tr>\n",
       "      <th>5.51</th>\n",
       "      <td>1.0</td>\n",
       "      <td>34.144000</td>\n",
       "      <td>NaN</td>\n",
       "      <td>34.1440</td>\n",
       "      <td>34.14400</td>\n",
       "      <td>34.144000</td>\n",
       "      <td>34.144000</td>\n",
       "      <td>34.144000</td>\n",
       "      <td>1.0</td>\n",
       "      <td>-117.697000</td>\n",
       "      <td>...</td>\n",
       "      <td>-117.697000</td>\n",
       "      <td>-117.697000</td>\n",
       "      <td>1.0</td>\n",
       "      <td>3.292000</td>\n",
       "      <td>NaN</td>\n",
       "      <td>3.292</td>\n",
       "      <td>3.292</td>\n",
       "      <td>3.292</td>\n",
       "      <td>3.292</td>\n",
       "      <td>3.292</td>\n",
       "    </tr>\n",
       "    <tr>\n",
       "      <th>5.52</th>\n",
       "      <td>4.0</td>\n",
       "      <td>37.476125</td>\n",
       "      <td>0.441895</td>\n",
       "      <td>37.2315</td>\n",
       "      <td>37.24975</td>\n",
       "      <td>37.267333</td>\n",
       "      <td>37.493708</td>\n",
       "      <td>38.138333</td>\n",
       "      <td>4.0</td>\n",
       "      <td>-116.886375</td>\n",
       "      <td>...</td>\n",
       "      <td>-116.354458</td>\n",
       "      <td>-116.311833</td>\n",
       "      <td>4.0</td>\n",
       "      <td>3.575000</td>\n",
       "      <td>2.807579</td>\n",
       "      <td>0.900</td>\n",
       "      <td>1.275</td>\n",
       "      <td>3.700</td>\n",
       "      <td>6.000</td>\n",
       "      <td>6.000</td>\n",
       "    </tr>\n",
       "    <tr>\n",
       "      <th>5.53</th>\n",
       "      <td>1.0</td>\n",
       "      <td>34.162000</td>\n",
       "      <td>NaN</td>\n",
       "      <td>34.1620</td>\n",
       "      <td>34.16200</td>\n",
       "      <td>34.162000</td>\n",
       "      <td>34.162000</td>\n",
       "      <td>34.162000</td>\n",
       "      <td>1.0</td>\n",
       "      <td>-116.852000</td>\n",
       "      <td>...</td>\n",
       "      <td>-116.852000</td>\n",
       "      <td>-116.852000</td>\n",
       "      <td>1.0</td>\n",
       "      <td>9.615000</td>\n",
       "      <td>NaN</td>\n",
       "      <td>9.615</td>\n",
       "      <td>9.615</td>\n",
       "      <td>9.615</td>\n",
       "      <td>9.615</td>\n",
       "      <td>9.615</td>\n",
       "    </tr>\n",
       "    <tr>\n",
       "      <th>5.54</th>\n",
       "      <td>1.0</td>\n",
       "      <td>37.300500</td>\n",
       "      <td>NaN</td>\n",
       "      <td>37.3005</td>\n",
       "      <td>37.30050</td>\n",
       "      <td>37.300500</td>\n",
       "      <td>37.300500</td>\n",
       "      <td>37.300500</td>\n",
       "      <td>1.0</td>\n",
       "      <td>-116.534167</td>\n",
       "      <td>...</td>\n",
       "      <td>-116.534167</td>\n",
       "      <td>-116.534167</td>\n",
       "      <td>1.0</td>\n",
       "      <td>1.200000</td>\n",
       "      <td>NaN</td>\n",
       "      <td>1.200</td>\n",
       "      <td>1.200</td>\n",
       "      <td>1.200</td>\n",
       "      <td>1.200</td>\n",
       "      <td>1.200</td>\n",
       "    </tr>\n",
       "    <tr>\n",
       "      <th>...</th>\n",
       "      <td>...</td>\n",
       "      <td>...</td>\n",
       "      <td>...</td>\n",
       "      <td>...</td>\n",
       "      <td>...</td>\n",
       "      <td>...</td>\n",
       "      <td>...</td>\n",
       "      <td>...</td>\n",
       "      <td>...</td>\n",
       "      <td>...</td>\n",
       "      <td>...</td>\n",
       "      <td>...</td>\n",
       "      <td>...</td>\n",
       "      <td>...</td>\n",
       "      <td>...</td>\n",
       "      <td>...</td>\n",
       "      <td>...</td>\n",
       "      <td>...</td>\n",
       "      <td>...</td>\n",
       "      <td>...</td>\n",
       "      <td>...</td>\n",
       "    </tr>\n",
       "    <tr>\n",
       "      <th>8.40</th>\n",
       "      <td>2.0</td>\n",
       "      <td>-10.351500</td>\n",
       "      <td>8.362952</td>\n",
       "      <td>-16.2650</td>\n",
       "      <td>-13.30825</td>\n",
       "      <td>-10.351500</td>\n",
       "      <td>-7.394750</td>\n",
       "      <td>-4.438000</td>\n",
       "      <td>2.0</td>\n",
       "      <td>13.863000</td>\n",
       "      <td>...</td>\n",
       "      <td>57.615000</td>\n",
       "      <td>101.367000</td>\n",
       "      <td>2.0</td>\n",
       "      <td>33.500000</td>\n",
       "      <td>0.707107</td>\n",
       "      <td>33.000</td>\n",
       "      <td>33.250</td>\n",
       "      <td>33.500</td>\n",
       "      <td>33.750</td>\n",
       "      <td>34.000</td>\n",
       "    </tr>\n",
       "    <tr>\n",
       "      <th>8.60</th>\n",
       "      <td>2.0</td>\n",
       "      <td>2.206000</td>\n",
       "      <td>0.171120</td>\n",
       "      <td>2.0850</td>\n",
       "      <td>2.14550</td>\n",
       "      <td>2.206000</td>\n",
       "      <td>2.266500</td>\n",
       "      <td>2.327000</td>\n",
       "      <td>2.0</td>\n",
       "      <td>95.085500</td>\n",
       "      <td>...</td>\n",
       "      <td>96.096750</td>\n",
       "      <td>97.108000</td>\n",
       "      <td>2.0</td>\n",
       "      <td>25.000000</td>\n",
       "      <td>7.071068</td>\n",
       "      <td>20.000</td>\n",
       "      <td>22.500</td>\n",
       "      <td>25.000</td>\n",
       "      <td>27.500</td>\n",
       "      <td>30.000</td>\n",
       "    </tr>\n",
       "    <tr>\n",
       "      <th>8.70</th>\n",
       "      <td>1.0</td>\n",
       "      <td>51.251000</td>\n",
       "      <td>NaN</td>\n",
       "      <td>51.2510</td>\n",
       "      <td>51.25100</td>\n",
       "      <td>51.251000</td>\n",
       "      <td>51.251000</td>\n",
       "      <td>51.251000</td>\n",
       "      <td>1.0</td>\n",
       "      <td>178.715000</td>\n",
       "      <td>...</td>\n",
       "      <td>178.715000</td>\n",
       "      <td>178.715000</td>\n",
       "      <td>1.0</td>\n",
       "      <td>30.300000</td>\n",
       "      <td>NaN</td>\n",
       "      <td>30.300</td>\n",
       "      <td>30.300</td>\n",
       "      <td>30.300</td>\n",
       "      <td>30.300</td>\n",
       "      <td>30.300</td>\n",
       "    </tr>\n",
       "    <tr>\n",
       "      <th>8.80</th>\n",
       "      <td>1.0</td>\n",
       "      <td>-36.122000</td>\n",
       "      <td>NaN</td>\n",
       "      <td>-36.1220</td>\n",
       "      <td>-36.12200</td>\n",
       "      <td>-36.122000</td>\n",
       "      <td>-36.122000</td>\n",
       "      <td>-36.122000</td>\n",
       "      <td>1.0</td>\n",
       "      <td>-72.898000</td>\n",
       "      <td>...</td>\n",
       "      <td>-72.898000</td>\n",
       "      <td>-72.898000</td>\n",
       "      <td>1.0</td>\n",
       "      <td>22.900000</td>\n",
       "      <td>NaN</td>\n",
       "      <td>22.900</td>\n",
       "      <td>22.900</td>\n",
       "      <td>22.900</td>\n",
       "      <td>22.900</td>\n",
       "      <td>22.900</td>\n",
       "    </tr>\n",
       "    <tr>\n",
       "      <th>9.10</th>\n",
       "      <td>2.0</td>\n",
       "      <td>20.796000</td>\n",
       "      <td>24.750152</td>\n",
       "      <td>3.2950</td>\n",
       "      <td>12.04550</td>\n",
       "      <td>20.796000</td>\n",
       "      <td>29.546500</td>\n",
       "      <td>38.297000</td>\n",
       "      <td>2.0</td>\n",
       "      <td>119.177500</td>\n",
       "      <td>...</td>\n",
       "      <td>130.775250</td>\n",
       "      <td>142.373000</td>\n",
       "      <td>2.0</td>\n",
       "      <td>29.500000</td>\n",
       "      <td>0.707107</td>\n",
       "      <td>29.000</td>\n",
       "      <td>29.250</td>\n",
       "      <td>29.500</td>\n",
       "      <td>29.750</td>\n",
       "      <td>30.000</td>\n",
       "    </tr>\n",
       "  </tbody>\n",
       "</table>\n",
       "<p>64 rows × 24 columns</p>\n",
       "</div>"
      ],
      "text/plain": [
       "          Latitude                                                      \\\n",
       "             count       mean        std      min       25%        50%   \n",
       "Magnitude                                                                \n",
       "5.50        4685.0   0.559046  30.477473 -77.0800 -20.39100  -4.133000   \n",
       "5.51           1.0  34.144000        NaN  34.1440  34.14400  34.144000   \n",
       "5.52           4.0  37.476125   0.441895  37.2315  37.24975  37.267333   \n",
       "5.53           1.0  34.162000        NaN  34.1620  34.16200  34.162000   \n",
       "5.54           1.0  37.300500        NaN  37.3005  37.30050  37.300500   \n",
       "...            ...        ...        ...      ...       ...        ...   \n",
       "8.40           2.0 -10.351500   8.362952 -16.2650 -13.30825 -10.351500   \n",
       "8.60           2.0   2.206000   0.171120   2.0850   2.14550   2.206000   \n",
       "8.70           1.0  51.251000        NaN  51.2510  51.25100  51.251000   \n",
       "8.80           1.0 -36.122000        NaN -36.1220 -36.12200 -36.122000   \n",
       "9.10           2.0  20.796000  24.750152   3.2950  12.04550  20.796000   \n",
       "\n",
       "                                Longitude              ...              \\\n",
       "                 75%        max     count        mean  ...         75%   \n",
       "Magnitude                                              ...               \n",
       "5.50       23.532000  85.735000    4685.0   34.785978  ...  143.473000   \n",
       "5.51       34.144000  34.144000       1.0 -117.697000  ... -117.697000   \n",
       "5.52       37.493708  38.138333       4.0 -116.886375  ... -116.354458   \n",
       "5.53       34.162000  34.162000       1.0 -116.852000  ... -116.852000   \n",
       "5.54       37.300500  37.300500       1.0 -116.534167  ... -116.534167   \n",
       "...              ...        ...       ...         ...  ...         ...   \n",
       "8.40       -7.394750  -4.438000       2.0   13.863000  ...   57.615000   \n",
       "8.60        2.266500   2.327000       2.0   95.085500  ...   96.096750   \n",
       "8.70       51.251000  51.251000       1.0  178.715000  ...  178.715000   \n",
       "8.80      -36.122000 -36.122000       1.0  -72.898000  ...  -72.898000   \n",
       "9.10       29.546500  38.297000       2.0  119.177500  ...  130.775250   \n",
       "\n",
       "                        Depth                                                 \\\n",
       "                  max   count       mean         std     min     25%     50%   \n",
       "Magnitude                                                                      \n",
       "5.50       179.984000  4685.0  70.856438  120.984309   0.000  15.000  33.000   \n",
       "5.51      -117.697000     1.0   3.292000         NaN   3.292   3.292   3.292   \n",
       "5.52      -116.311833     4.0   3.575000    2.807579   0.900   1.275   3.700   \n",
       "5.53      -116.852000     1.0   9.615000         NaN   9.615   9.615   9.615   \n",
       "5.54      -116.534167     1.0   1.200000         NaN   1.200   1.200   1.200   \n",
       "...               ...     ...        ...         ...     ...     ...     ...   \n",
       "8.40       101.367000     2.0  33.500000    0.707107  33.000  33.250  33.500   \n",
       "8.60        97.108000     2.0  25.000000    7.071068  20.000  22.500  25.000   \n",
       "8.70       178.715000     1.0  30.300000         NaN  30.300  30.300  30.300   \n",
       "8.80       -72.898000     1.0  22.900000         NaN  22.900  22.900  22.900   \n",
       "9.10       142.373000     2.0  29.500000    0.707107  29.000  29.250  29.500   \n",
       "\n",
       "                            \n",
       "              75%      max  \n",
       "Magnitude                   \n",
       "5.50       56.900  700.000  \n",
       "5.51        3.292    3.292  \n",
       "5.52        6.000    6.000  \n",
       "5.53        9.615    9.615  \n",
       "5.54        1.200    1.200  \n",
       "...           ...      ...  \n",
       "8.40       33.750   34.000  \n",
       "8.60       27.500   30.000  \n",
       "8.70       30.300   30.300  \n",
       "8.80       22.900   22.900  \n",
       "9.10       29.750   30.000  \n",
       "\n",
       "[64 rows x 24 columns]"
      ]
     },
     "execution_count": 17,
     "metadata": {},
     "output_type": "execute_result"
    }
   ],
   "source": [
    "#Imaginemos que también queremos agrupar todos los datos por \"Magnitud\" y definir sus parámetros estadísticos a partir de datos agrupados\n",
    "grouped_data = datos1.groupby('Magnitude') #datos agrupados por magnitud\n",
    "grouped_data.describe()"
   ]
  },
  {
   "cell_type": "markdown",
   "metadata": {},
   "source": [
    "## Elaboración de histograma"
   ]
  },
  {
   "cell_type": "markdown",
   "metadata": {},
   "source": [
    "Interpretar datos puede ser más fácil si utilizamos gráficas para su representación. Visualizemos los datos en un histograma y en un diagrama de caja o *boxplot*."
   ]
  },
  {
   "cell_type": "code",
   "execution_count": 18,
   "metadata": {},
   "outputs": [
    {
     "data": {
      "image/png": "[encoded data removed]",
      "text/plain": [
       "<Figure size 864x648 with 1 Axes>"
      ]
     },
     "metadata": {
      "needs_background": "light"
     },
     "output_type": "display_data"
    }
   ],
   "source": [
    "datos1['Magnitude'].hist(figsize=(12,9),bins=10)       # la sintaxis es: nombre_archivo['variable'].hist(figsize=(ancho, alto)) \n",
    "#bins=10 indica que queremos que el histograma tenga 10 clases\n",
    "plt.title('Magnitud Sismos ocurridos entre 1965 y 2016')  #etiqueta el título del histograma\n",
    "plt.xlabel(\"Magnitud\")                   #etiqueta eje \"y\"\n",
    "plt.ylabel(\"Frecuencia\")                 #etiqueta eje \"y\"\n",
    "plt.show()                               #para visualizar el histograma"
   ]
  },
  {
   "cell_type": "markdown",
   "metadata": {},
   "source": [
    "De la gráfica anterior podemos observar que la mayoría de los sismos ocurridos en los últimos 51 años han sido de magnitud 5.5 y conforme aumenta la magnitud son menos frecuentes, ¿te lo imaginabas? \n",
    "\n",
    "También te puedes dar cuenta que estos datos presentan una distribución lognormal (la mayor \"carga de datos\" se encuentra hacia la izquierda o sesgada la izquierda o sesgo positivo)\n",
    "\n",
    "Del coeficiente de simetría sabemos que si este es mayor que 1, la distribución es asimétrica positiva mientras que si es menor que 1 es asimétrica negativa. Podemos observarlo en la gráfica y calcularlo de la siguiente manera:"
   ]
  },
  {
   "cell_type": "code",
   "execution_count": 19,
   "metadata": {},
   "outputs": [
    {
     "data": {
      "text/plain": [
       "1.8482272812598326"
      ]
     },
     "execution_count": 19,
     "metadata": {},
     "output_type": "execute_result"
    }
   ],
   "source": [
    "asimetria = stats.skew(datos1['Magnitude'])\n",
    "asimetria"
   ]
  },
  {
   "cell_type": "markdown",
   "metadata": {},
   "source": [
    "## Graficando *boxplot*"
   ]
  },
  {
   "cell_type": "markdown",
   "metadata": {},
   "source": [
    "Aunque los histogramas son de utilidad, también podemos hacer uso de un gráfico que nos brinde mayor información: el diagrama de caja, diagrama de bigotes o *boxplot*.\n",
    "\n",
    "Ventajas:\n",
    "- Proporciona una visión general de la simetría de los datos\n",
    "- Nos permite ver de manera muy rápida los valores atípicos (*outliers*)\n",
    "- Permite observar la dispersión de los puntos respecto a la mediana, los percentiles 25 y 75 y los valores mínimo y máximo"
   ]
  },
  {
   "cell_type": "code",
   "execution_count": 20,
   "metadata": {
    "scrolled": false
   },
   "outputs": [
    {
     "data": {
      "image/png": "[encoded data removed]",
      "text/plain": [
       "<Figure size 864x648 with 1 Axes>"
      ]
     },
     "metadata": {
      "needs_background": "light"
     },
     "output_type": "display_data"
    }
   ],
   "source": [
    "#Ahora dibujemos un diagrama de caja o de bigote (boxplot) con todos los datos de magnitud de los sismos registrados desde 1965 hasta 2016\n",
    "#Diagrama de caja utilizando Pandas\n",
    "fig = plt.figure(5, figsize=(12,9))  #definimos el tamaño del gráfico\n",
    "boxplot1 = pd.DataFrame.boxplot(datos1['Magnitude'])"
   ]
  },
  {
   "cell_type": "markdown",
   "metadata": {},
   "source": [
    "La mediana corresponde con la línea de color verde en la caja. Los límites de las cajas definen los percentiles 25 y 75%. \n",
    "Las líneas azules verticales son los \"bigotes\" y los puntos que se encuentran por encima del extremo superior corresponden con los valores atípicos o en inglés \"outliers\"."
   ]
  },
  {
   "cell_type": "code",
   "execution_count": 21,
   "metadata": {},
   "outputs": [
    {
     "data": {
      "image/png": "[encoded data removed]",
      "text/plain": [
       "<Figure size 864x648 with 1 Axes>"
      ]
     },
     "metadata": {
      "needs_background": "light"
     },
     "output_type": "display_data"
    }
   ],
   "source": [
    "#Otra ventaja es que podemos realizar los gráficos mediante diferentes librerías:\n",
    "#utilizando seaborn\n",
    "fig2 = plt.figure(5, figsize=(12,9))\n",
    "boxplot2 = sns.boxplot(y='Magnitude',\n",
    "                 data=datos1, \n",
    "                 width=0.3,\n",
    "                 palette=\"colorblind\")"
   ]
  },
  {
   "cell_type": "code",
   "execution_count": 22,
   "metadata": {},
   "outputs": [],
   "source": [
    "#Si quieres utilizar tus gráficos realizados en Jupyter, puedes exportarlos como jpg de la siguiente manera:\n",
    "plot_file_name=\"boxplot.jpg\"\n",
    "#guardamos como formato jpeg\n",
    "boxplot2.figure.savefig(plot_file_name,\n",
    "                    format='jpeg',\n",
    "                    dpi=100)\n",
    "#Puedes corroborar que ya está guardado tu gráfico, accediendo a la carpeta en la que estás trabajando"
   ]
  },
  {
   "cell_type": "code",
   "execution_count": 23,
   "metadata": {},
   "outputs": [
    {
     "data": {
      "text/html": [
       "<div>\n",
       "<style scoped>\n",
       "    .dataframe tbody tr th:only-of-type {\n",
       "        vertical-align: middle;\n",
       "    }\n",
       "\n",
       "    .dataframe tbody tr th {\n",
       "        vertical-align: top;\n",
       "    }\n",
       "\n",
       "    .dataframe thead th {\n",
       "        text-align: right;\n",
       "    }\n",
       "</style>\n",
       "<table border=\"1\" class=\"dataframe\">\n",
       "  <thead>\n",
       "    <tr style=\"text-align: right;\">\n",
       "      <th></th>\n",
       "      <th>Frequency</th>\n",
       "    </tr>\n",
       "    <tr>\n",
       "      <th>Magnitude</th>\n",
       "      <th></th>\n",
       "    </tr>\n",
       "  </thead>\n",
       "  <tbody>\n",
       "    <tr>\n",
       "      <th>5.50</th>\n",
       "      <td>4685</td>\n",
       "    </tr>\n",
       "    <tr>\n",
       "      <th>5.51</th>\n",
       "      <td>1</td>\n",
       "    </tr>\n",
       "    <tr>\n",
       "      <th>5.52</th>\n",
       "      <td>4</td>\n",
       "    </tr>\n",
       "    <tr>\n",
       "      <th>5.53</th>\n",
       "      <td>1</td>\n",
       "    </tr>\n",
       "    <tr>\n",
       "      <th>5.54</th>\n",
       "      <td>1</td>\n",
       "    </tr>\n",
       "    <tr>\n",
       "      <th>5.55</th>\n",
       "      <td>1</td>\n",
       "    </tr>\n",
       "    <tr>\n",
       "      <th>5.58</th>\n",
       "      <td>1</td>\n",
       "    </tr>\n",
       "    <tr>\n",
       "      <th>5.60</th>\n",
       "      <td>3967</td>\n",
       "    </tr>\n",
       "    <tr>\n",
       "      <th>5.62</th>\n",
       "      <td>1</td>\n",
       "    </tr>\n",
       "    <tr>\n",
       "      <th>5.63</th>\n",
       "      <td>1</td>\n",
       "    </tr>\n",
       "    <tr>\n",
       "      <th>5.64</th>\n",
       "      <td>2</td>\n",
       "    </tr>\n",
       "    <tr>\n",
       "      <th>5.66</th>\n",
       "      <td>2</td>\n",
       "    </tr>\n",
       "    <tr>\n",
       "      <th>5.67</th>\n",
       "      <td>2</td>\n",
       "    </tr>\n",
       "    <tr>\n",
       "      <th>5.69</th>\n",
       "      <td>1</td>\n",
       "    </tr>\n",
       "    <tr>\n",
       "      <th>5.70</th>\n",
       "      <td>3079</td>\n",
       "    </tr>\n",
       "  </tbody>\n",
       "</table>\n",
       "</div>"
      ],
      "text/plain": [
       "           Frequency\n",
       "Magnitude           \n",
       "5.50            4685\n",
       "5.51               1\n",
       "5.52               4\n",
       "5.53               1\n",
       "5.54               1\n",
       "5.55               1\n",
       "5.58               1\n",
       "5.60            3967\n",
       "5.62               1\n",
       "5.63               1\n",
       "5.64               2\n",
       "5.66               2\n",
       "5.67               2\n",
       "5.69               1\n",
       "5.70            3079"
      ]
     },
     "execution_count": 23,
     "metadata": {},
     "output_type": "execute_result"
    }
   ],
   "source": [
    "# También puedes hacer una tabla de frecuencias\n",
    "tabla_frec=(datos1\n",
    "  .groupby(\"Magnitude\")\n",
    "  .agg(Frequency=(\"Magnitude\", \"count\")))\n",
    "tabla_frec.head(15)\n"
   ]
  },
  {
   "cell_type": "markdown",
   "metadata": {},
   "source": [
    "¿Qué observas con las frecuencias de los datos? Notaste que la mayoría de los sismos tienen magnitud de 5.50, 5.60, 5.70, etc. ¿Por qué piensas que ocurre esto?\n",
    "\n",
    "Como ejercicio, puedes analizar la magnitud de los sismos por año y ver si los datos tienen cambios importantes en su distribución año con año.\n",
    "\n"
   ]
  },
  {
   "cell_type": "markdown",
   "metadata": {},
   "source": [
    "**Referencias:**\n",
    "\n",
    "1. National Earthquake Information Center (NEIC). (n.d.). Usgs.Gov. Recuperado el 25 de septiembre de 2021, de https://www.usgs.gov/natural-hazards/earthquake-hazards/national-earthquake-information-center-neic?qt-science_support_page_related_con=3"
   ]
  },
  {
   "cell_type": "markdown",
   "metadata": {},
   "source": [
    "**Este producto docente ha sido financiado por la DGAPA-UNAM a través del proyecto PAPIME PE101020 “Geología desde los ojos de un dron: una poderosa herramienta educativa para los actuales ingenieros de la Tierra”.**"
   ]
  }
 ],
 "metadata": {
  "kernelspec": {
   "display_name": "Python 3 (ipykernel)",
   "language": "python",
   "name": "python3"
  },
  "language_info": {
   "codemirror_mode": {
    "name": "ipython",
    "version": 3
   },
   "file_extension": ".py",
   "mimetype": "text/x-python",
   "name": "python",
   "nbconvert_exporter": "python",
   "pygments_lexer": "ipython3",
   "version": "3.9.7"
  }
 },
 "nbformat": 4,
 "nbformat_minor": 2
}

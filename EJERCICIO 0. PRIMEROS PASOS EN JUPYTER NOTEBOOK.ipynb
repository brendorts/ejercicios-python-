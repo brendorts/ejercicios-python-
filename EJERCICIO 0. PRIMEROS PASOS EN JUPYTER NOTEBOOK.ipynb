{
 "cells": [
  {
   "cell_type": "markdown",
   "id": "f190f391",
   "metadata": {},
   "source": [
    "# EJERCICIO 0. PRIMEROS PASOS EN JUPYTER NOTEBOOK"
   ]
  },
  {
   "cell_type": "markdown",
   "id": "27ee234b",
   "metadata": {},
   "source": [
    "Autora: Brenda Ortiz Soto\n",
    "\n",
    "\n",
    "En este ejercicio te familiarizarás con el entorno de trabajo de Jupyter e imprimirás tu primera línea de código.\n",
    "\n",
    "\n",
    "Cuando abras un nuevo *notebook*, visualizarás el área de trabajo:"
   ]
  },
  {
   "cell_type": "markdown",
   "id": "8b3f91c9",
   "metadata": {},
   "source": [
    "![Área de trabajo de Jupyter Notebook](JN1.png)\n",
    "\n",
    "    Fig 1. Área de trabajo de Jupyter Notebook"
   ]
  },
  {
   "cell_type": "markdown",
   "id": "82883ae5",
   "metadata": {},
   "source": [
    "En la parte superior aparece el nombre del Jupyter Notebook, por default se llama *Untitled* y corresponde con el nombre del archivo .ipynb\n",
    "\n",
    "\n",
    "Para cambiar el título sólo da clic y renómbralo.\n",
    "\n",
    "En la barra de menu, encuentras diferentes opciones para gestionar el notebook (abrir, guardar como, hacer una copia, etc), las celdas (insertar, correr celda, etc) y el kernel (interrumpir, reiniciar, reconectar, etc)."
   ]
  },
  {
   "cell_type": "markdown",
   "id": "3ed0e266",
   "metadata": {},
   "source": [
    "## Estructura de un notebook"
   ]
  },
  {
   "cell_type": "markdown",
   "id": "6642e063",
   "metadata": {},
   "source": [
    "El notebook consiste de una secuencia de celdas (*cells*) y utilizaremos dos tipos de celdas:\n",
    "\n",
    "- Celdas de código (*Code cells*): te permiten escribir y editar el código.\n",
    "- Celdas *Markdown* (*Markdown cells*): te permiten escribir texto enriquecido utilizando lenguaje de marcado (*Markdown language*). Este tipo de celdas mejorarán la presentación de tus notebooks y será más fácil para los usuarios poder entender los notebooks.  \n",
    "\n",
    "Para insertar una celda, da clic en el menu en donde aparece el icono de + o también puedes dar clic en *Insert* y luego *Insert cell below*.\n",
    "\n",
    "Cada que agregamos una celda, comienza siendo una celda de código pero se puede cambiar usando el menú despegable de la barra de herramientas, dicho menu lo encuentras del lado izquierdo del icono de atajos de teclado.\n",
    "\n",
    "Puedes ejecutar una celda usando las teclas *Shift* + *Enter*, usando las teclas *Ctrl* + *Enter* o seleccionando la celda a ejecutar y luego da clic en *Run*. Como puedes darte cuenta, puedes hacerlo de distintas maneras, escoge la que sea más cómoda para ti."
   ]
  },
  {
   "cell_type": "code",
   "execution_count": 19,
   "id": "cf52c455",
   "metadata": {},
   "outputs": [
    {
     "name": "stdout",
     "output_type": "stream",
     "text": [
      "Esto es una celda de código\n"
     ]
    }
   ],
   "source": [
    "print(\"Esto es una celda de código\")"
   ]
  },
  {
   "cell_type": "markdown",
   "id": "390168de",
   "metadata": {},
   "source": [
    "¿Cómo saber si la celda ya se ejecutó? Observa el extremo izquierdo de la celda anterior.\n",
    "\n",
    "- Si solamente aparece In [ ], quiere decir que aún no se ha ejecutado\n",
    "- Si lo que aparece es In [*], entonces está en proceso de ejecución\n",
    "- Si aparece un número entre los corchetes significa que la celda ya se ejecutó\n",
    "\n",
    "También puedes ir documentando tu notebook en las celdas de código, esto es una buena práctica cuando quieres explicarle a alguien más que está haciendo tu código. Para comentar el código sólo agrega un signo de \"#\"."
   ]
  },
  {
   "cell_type": "code",
   "execution_count": 20,
   "id": "8e60daf8",
   "metadata": {},
   "outputs": [],
   "source": [
    "#descomenta la siguiente línea e imprime tu primera línea de código\n",
    "#print(\"¡Hola mundo!\")"
   ]
  },
  {
   "cell_type": "markdown",
   "id": "4a8c3d8e",
   "metadata": {},
   "source": [
    "Puedes acceder a los atajos del teclado desde el icono de teclado en la barra de menu. \n",
    "\n",
    "Para guardar tu noteebook, puedes hacerlo con el comando *Crtl* +*S* o en da clic en *File* y luego en *Save & Checkpoint* y para descargar tu notebook das clic en *File* y luego en *Download as*, aquí encontrarás una lista de diferentes extensiones para descarga.\n",
    "\n",
    "Para salir del notebook, asegúrate de guardarlo como se indicó antes y dirígete a *File* y luego da clic en *Close and Halt*.\n",
    "\n",
    "¡Ahora es tu turno de explorar la barra de menu!"
   ]
  },
  {
   "cell_type": "markdown",
   "id": "68dadb3c",
   "metadata": {},
   "source": [
    "**Referencias:**\n",
    "\n",
    "1. The Jupyter Notebook — Jupyter Notebook 7.0.0a2 documentation. (n.d.). Readthedocs.Io. Recuperado el 31 de marzo de 2022, de https://jupyter-notebook.readthedocs.io/en/latest/notebook.html\n"
   ]
  },
  {
   "cell_type": "markdown",
   "id": "a5498212",
   "metadata": {},
   "source": [
    "**Este producto docente ha sido financiado por la DGAPA-UNAM a través del proyecto PAPIME PE101020 “Geología desde los ojos de un dron: una poderosa herramienta educativa para los actuales ingenieros de la Tierra”.**"
   ]
  }
 ],
 "metadata": {
  "kernelspec": {
   "display_name": "Python 3 (ipykernel)",
   "language": "python",
   "name": "python3"
  },
  "language_info": {
   "codemirror_mode": {
    "name": "ipython",
    "version": 3
   },
   "file_extension": ".py",
   "mimetype": "text/x-python",
   "name": "python",
   "nbconvert_exporter": "python",
   "pygments_lexer": "ipython3",
   "version": "3.9.7"
  }
 },
 "nbformat": 4,
 "nbformat_minor": 5
}
